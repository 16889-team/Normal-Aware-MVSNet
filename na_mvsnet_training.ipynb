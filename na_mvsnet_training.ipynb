{
  "nbformat": 4,
  "nbformat_minor": 0,
  "metadata": {
    "colab": {
      "name": "na_mvsnet.ipynb",
      "provenance": [],
      "machine_shape": "hm"
    },
    "kernelspec": {
      "name": "python3",
      "display_name": "Python 3"
    },
    "language_info": {
      "name": "python"
    },
    "accelerator": "GPU"
  },
  "cells": [
    {
      "cell_type": "code",
      "source": [
        "!pip install tensorboardX"
      ],
      "metadata": {
        "id": "Q6PfOHKsPGEB"
      },
      "execution_count": null,
      "outputs": []
    },
    {
      "cell_type": "code",
      "execution_count": null,
      "metadata": {
        "id": "wm3GKIp0FGVL"
      },
      "outputs": [],
      "source": [
        "!git clone https://github.com/16889-team/Normal-Aware-MVSNet.git\n",
        "!mv Normal-Aware-MVSNet/* .\n",
        "!rm -r Normal-Aware-MVSNet"
      ]
    },
    {
      "cell_type": "code",
      "source": [
        "!mkdir checkpoints\n",
        "!mkdir checkpoints/debug"
      ],
      "metadata": {
        "id": "06PejQ_yPOfz"
      },
      "execution_count": 18,
      "outputs": []
    },
    {
      "cell_type": "code",
      "source": [
        "from google.colab import drive\n",
        "drive.mount('/content/gdrive')"
      ],
      "metadata": {
        "id": "s75vTBSGIErG"
      },
      "execution_count": null,
      "outputs": []
    },
    {
      "cell_type": "code",
      "source": [
        "!unzip /content/gdrive/MyDrive/MVS_dataset.zip -d /content/datasets/"
      ],
      "metadata": {
        "id": "ZgsKPVIJJ-0o"
      },
      "execution_count": null,
      "outputs": []
    },
    {
      "cell_type": "code",
      "source": [
        "!python train.py --mode train --batch_size 16  --alpha 0.2 --beta 3 --gamma 0.1"
      ],
      "metadata": {
        "id": "6MpyAqE9KHpD"
      },
      "execution_count": null,
      "outputs": []
    }
  ]
}